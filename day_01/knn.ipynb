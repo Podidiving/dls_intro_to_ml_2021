{
 "cells": [
  {
   "cell_type": "markdown",
   "metadata": {
    "id": "s4EPX6Yzeqh6"
   },
   "source": [
    "# Фреймворк машинного обучения. Метод ближайших соседей.\n",
    "В этом ноутбуке мы обучим и протестируем самую простую модель машинного обучения --- метод ближайших соседей. Мы будем решать с его помощью задачу распознавания классов в датасете \"Игрушка дьявола\"."
   ]
  },
  {
   "cell_type": "markdown",
   "metadata": {
    "id": "UdimisDFeqh9"
   },
   "source": [
    "Импортируем необходимые библиотеки. Numpy --- это библиотека для быстрой и удобной работы с массивами числовых данных. Matplotlib --- библиотека для построения графиков и визуализации."
   ]
  },
  {
   "cell_type": "code",
   "execution_count": null,
   "metadata": {
    "id": "dSbvuUGxeqh_"
   },
   "outputs": [],
   "source": [
    "import numpy as np\n",
    "import matplotlib.pyplot as plt\n",
    "%matplotlib inline"
   ]
  },
  {
   "cell_type": "markdown",
   "metadata": {
    "id": "sHdfBFJ-eqiN"
   },
   "source": [
    "### Датасет"
   ]
  },
  {
   "cell_type": "markdown",
   "metadata": {
    "id": "OfRImwBjeqiP"
   },
   "source": [
    "Создадим функцию, которая генерирует датасет \"Игрушка дьявола\" из N точек и K классов в D-мерном пространстве."
   ]
  },
  {
   "cell_type": "code",
   "execution_count": null,
   "metadata": {
    "id": "_p0SVeooeqiR"
   },
   "outputs": [],
   "source": [
    "def devil(N, D=2, K=3):\n",
    "    N = 100\n",
    "    D = 2\n",
    "    K = 3\n",
    "    X = np.zeros((N * K, D))\n",
    "    y = np.zeros(N * K, dtype='uint8')\n",
    "\n",
    "    for j in range(K):\n",
    "        ix = range(N * j,N * (j + 1))\n",
    "        r = np.linspace(0.0, 1, N)\n",
    "        t = np.linspace(j * 4, (j + 1) * 4,N) + np.random.randn(N) * 0.2 # theta\n",
    "        X[ix] = np.c_[r * np.sin(t), r * np.cos(t)]\n",
    "        y[ix] = j\n",
    "    return X, y"
   ]
  },
  {
   "cell_type": "code",
   "execution_count": null,
   "metadata": {
    "id": "U6UENsTgeqia"
   },
   "outputs": [],
   "source": [
    "X, y = devil(300)"
   ]
  },
  {
   "cell_type": "markdown",
   "metadata": {
    "id": "_J3LLreneqij"
   },
   "source": [
    "Добавим в данные шум, чтобы усложнить задачу."
   ]
  },
  {
   "cell_type": "code",
   "execution_count": null,
   "metadata": {
    "id": "JC_V6WjQeqim"
   },
   "outputs": [],
   "source": [
    "X[:, 0] += np.random.normal(loc=0, scale=0.15, size=300)\n",
    "X[:, 1] += np.random.normal(loc=0, scale=0.15, size=300)"
   ]
  },
  {
   "cell_type": "code",
   "execution_count": null,
   "metadata": {
    "id": "2hYD6TlHeqiw"
   },
   "outputs": [],
   "source": [
    "# Отрисовочная магия\n",
    "from matplotlib.colors import ListedColormap\n",
    "\n",
    "cmap_light = ListedColormap(['#FFAAAA', '#AAFFAA', '#AAAAFF'])\n",
    "\n",
    "x_min, x_max = (-1, 1)\n",
    "y_min, y_max = (-1, 1)\n",
    "\n",
    "h = 0.05"
   ]
  },
  {
   "cell_type": "markdown",
   "metadata": {
    "id": "XLPHPat0eqi4"
   },
   "source": [
    "Вот как выглядит наш датасет. Три цвета обозначают три различных класса."
   ]
  },
  {
   "cell_type": "code",
   "execution_count": null,
   "metadata": {
    "colab": {
     "base_uri": "https://localhost:8080/",
     "height": 704
    },
    "id": "3UWjMPYdeqi6",
    "outputId": "fde609ac-2869-4ac2-dee7-b48ef28205e4"
   },
   "outputs": [],
   "source": [
    "plt.figure(figsize=(12, 12))\n",
    "\n",
    "plt.scatter(X[:, 0], X[:, 1], c=y)\n",
    "\n",
    "plt.xlim((x_min, x_max))\n",
    "plt.ylim((y_min, y_max))\n",
    "\n",
    "plt.grid(True)\n",
    "\n",
    "plt.show()"
   ]
  },
  {
   "cell_type": "markdown",
   "metadata": {
    "id": "dRw0T7yleqjF"
   },
   "source": [
    "### Разбиение на train и test\n",
    "\n",
    "Перед началом работы необходимо разбить датасет на обучающую и тестовую выборки.\n",
    "\n",
    "### Задание\n",
    "Разбейте данные на обучающую и тестовую выборки в соотношении 60:40."
   ]
  },
  {
   "cell_type": "code",
   "execution_count": null,
   "metadata": {
    "id": "hGoHk0u0eqjG"
   },
   "outputs": [],
   "source": [
    "from sklearn.model_selection import train_test_split\n",
    "\n",
    "X_train, X_test, y_train, y_test = #YOUR CODE"
   ]
  },
  {
   "cell_type": "markdown",
   "metadata": {
    "id": "BusSV4RteqjO"
   },
   "source": [
    "### Моделирование\n",
    "Импортируем и обучим модель K ближайших соседей\n",
    "### Задание\n",
    "Обучите модель 5 ближайших соседей на обучающей выборке"
   ]
  },
  {
   "cell_type": "code",
   "execution_count": null,
   "metadata": {
    "id": "loTGQEd4eqjP"
   },
   "outputs": [],
   "source": [
    "from sklearn.neighbors import KNeighborsClassifier"
   ]
  },
  {
   "cell_type": "code",
   "execution_count": null,
   "metadata": {
    "id": "h_D1s66FeqjS"
   },
   "outputs": [],
   "source": [
    "model = #YOUR CODE\n",
    "#YOUR CODE"
   ]
  },
  {
   "cell_type": "markdown",
   "metadata": {
    "id": "s-umHnWReqjW"
   },
   "source": [
    "### Применение модели и измерение качества\n",
    "Измерим качество работы модели на train и test.\n",
    "### Задание\n",
    "Предскажите ответы на обучающей и тестовой выборках"
   ]
  },
  {
   "cell_type": "code",
   "execution_count": null,
   "metadata": {
    "id": "kdpzo2iyeqjX"
   },
   "outputs": [],
   "source": [
    "y_train_pred = #YOUR CODE\n",
    "y_test_pred = #YOUR CODE"
   ]
  },
  {
   "cell_type": "code",
   "execution_count": null,
   "metadata": {
    "colab": {
     "base_uri": "https://localhost:8080/",
     "height": 50
    },
    "id": "pSo0lgTzeqjb",
    "outputId": "f1c32880-a937-42e2-9639-01b18a0b9f64"
   },
   "outputs": [],
   "source": [
    "# Импортируем метрику качества из sklearn metrics. \n",
    "# Функция accuracy_score принимает на вход \n",
    "# истинные и предсказанные лейблы и возвращает \n",
    "# процент совпавших ответов\n",
    "from sklearn.metrics import accuracy_score\n",
    "\n",
    "print(f'Процент правильно угаданных ответов на обучающем множестве: {accuracy_score(y_train, y_train_pred)}')\n",
    "print(f'Процент правильно угаданных ответов на тестовом множестве: {accuracy_score(y_test, y_test_pred)}')"
   ]
  },
  {
   "cell_type": "markdown",
   "metadata": {
    "id": "RYeOzHwqeqjg"
   },
   "source": [
    "Видим, что процент угаданных ответов на обучающем множестве больше, чем на тестовом. Это следствие переобучения модели. О реальном качестве работы свидетельствует именно качество на test."
   ]
  },
  {
   "cell_type": "markdown",
   "metadata": {
    "id": "H_hVTroSeqjg"
   },
   "source": [
    "### Визуализация результатов"
   ]
  },
  {
   "cell_type": "code",
   "execution_count": null,
   "metadata": {
    "colab": {
     "base_uri": "https://localhost:8080/",
     "height": 704
    },
    "id": "2waKBpfveqjh",
    "outputId": "61a5d03c-0b2d-4b19-bed8-a7c82d174958"
   },
   "outputs": [],
   "source": [
    "plt.figure(figsize=(12, 12))\n",
    "\n",
    "plt.xlim((x_min, x_max))\n",
    "plt.ylim((y_min, y_max))\n",
    "xx, yy = np.meshgrid(np.linspace(x_min, x_max, 100),\n",
    "                     np.linspace(y_min, y_max, 100))\n",
    "\n",
    "Z = model.predict(np.c_[xx.ravel(), yy.ravel()])\n",
    "\n",
    "Z = Z.reshape(xx.shape)\n",
    "plt.pcolormesh(xx, yy, Z, cmap=cmap_light)\n",
    "plt.scatter(X_test[:, 0], X_test[:, 1], c=y_test, label='Тестовые точки')\n",
    "\n",
    "plt.legend()\n",
    "\n",
    "plt.show()"
   ]
  },
  {
   "cell_type": "markdown",
   "metadata": {
    "id": "qaOm3W04eqjo"
   },
   "source": [
    "### Рассмотрим вырожденный случай: метод одного ближайшего соседа\n",
    "Проделаем для него все вычисления\n",
    "\n",
    "### Задание. Проделайте всё то же самое для K = 1"
   ]
  },
  {
   "cell_type": "code",
   "execution_count": null,
   "metadata": {
    "colab": {
     "base_uri": "https://localhost:8080/",
     "height": 738
    },
    "id": "3xUhV1e-eqjp",
    "outputId": "be8f39cc-cf55-489f-c88a-1089bc459332"
   },
   "outputs": [],
   "source": [
    "model = #YOUR CODE\n",
    "y_train_pred = #YOUR CODE\n",
    "y_test_pred = #YOUR CODE\n",
    "\n",
    "print(f'Процент правильно угаданных ответов на обучающем множестве: {accuracy_score(y_train, y_train_pred)}')\n",
    "print(f'Процент правильно угаданных ответов на тестовом множестве: {accuracy_score(y_test, y_test_pred)}')\n",
    "\n",
    "plt.figure(figsize=(12, 12))\n",
    "\n",
    "plt.xlim((x_min, x_max))\n",
    "plt.ylim((y_min, y_max))\n",
    "xx, yy = np.meshgrid(np.linspace(x_min, x_max, 100),\n",
    "                     np.linspace(y_min, y_max, 100))\n",
    "\n",
    "Z = model.predict(np.c_[xx.ravel(), yy.ravel()])\n",
    "\n",
    "Z = Z.reshape(xx.shape)\n",
    "plt.pcolormesh(xx, yy, Z, cmap=cmap_light)\n",
    "plt.scatter(X_test[:, 0], X_test[:, 1], c=y_test, label='Тестовые точки')\n",
    "\n",
    "plt.legend()\n",
    "\n",
    "plt.show()"
   ]
  },
  {
   "cell_type": "markdown",
   "metadata": {},
   "source": [
    "### Задание\n",
    "Посмотрите на картинку и сделайте выводы. Какой алгоритм работает лучше? \n",
    "\n",
    "### Необязательное задание\n",
    "Найдите оптимальное значение $k$ с помощью метода, описанного в последнем задании в ноутбуке с семинара (кросс-валидация)"
   ]
  },
  {
   "cell_type": "code",
   "execution_count": null,
   "metadata": {},
   "outputs": [],
   "source": [
    "#YOUR CODE"
   ]
  }
 ],
 "metadata": {
  "colab": {
   "name": "knn.ipynb",
   "provenance": []
  },
  "kernelspec": {
   "display_name": "Python 3",
   "language": "python",
   "name": "python3"
  },
  "language_info": {
   "codemirror_mode": {
    "name": "ipython",
    "version": 3
   },
   "file_extension": ".py",
   "mimetype": "text/x-python",
   "name": "python",
   "nbconvert_exporter": "python",
   "pygments_lexer": "ipython3",
   "version": "3.9.7"
  }
 },
 "nbformat": 4,
 "nbformat_minor": 1
}
